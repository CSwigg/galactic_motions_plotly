{
 "cells": [
  {
   "cell_type": "code",
   "execution_count": 2,
   "metadata": {},
   "outputs": [],
   "source": [
    "import pandas as pd\n",
    "import numpy as np\n",
    "import movie_stars\n",
    "import warnings\n",
    "from astropy.io import fits\n",
    "warnings.filterwarnings(\"ignore\")\n",
    "import plotly.graph_objects as go\n",
    "\n",
    "time_to_integrate = np.linspace(0, -60, 50)"
   ]
  },
  {
   "cell_type": "code",
   "execution_count": 8,
   "metadata": {},
   "outputs": [],
   "source": [
    "density_images_list = []\n",
    "\n",
    "for t in time_to_integrate:\n",
    "    density_images_list.append(np.genfromtxt('/Users/cam/Desktop/astro_research/radcliffe/zari_us_txt_files/{}.txt'.format(np.round(t,2))))"
   ]
  },
  {
   "cell_type": "code",
   "execution_count": 5,
   "metadata": {},
   "outputs": [
    {
     "data": {
      "text/plain": [
       "['/Users/cam/Desktop/astro_research/radcliffe/zari_oba_txt_files/0.0.txt',\n",
       " '/Users/cam/Desktop/astro_research/radcliffe/zari_oba_txt_files/-1.2244897959183674.txt',\n",
       " '/Users/cam/Desktop/astro_research/radcliffe/zari_oba_txt_files/-2.4489795918367347.txt',\n",
       " '/Users/cam/Desktop/astro_research/radcliffe/zari_oba_txt_files/-3.673469387755102.txt',\n",
       " '/Users/cam/Desktop/astro_research/radcliffe/zari_oba_txt_files/-4.8979591836734695.txt',\n",
       " '/Users/cam/Desktop/astro_research/radcliffe/zari_oba_txt_files/-6.122448979591837.txt',\n",
       " '/Users/cam/Desktop/astro_research/radcliffe/zari_oba_txt_files/-7.346938775510204.txt',\n",
       " '/Users/cam/Desktop/astro_research/radcliffe/zari_oba_txt_files/-8.571428571428571.txt',\n",
       " '/Users/cam/Desktop/astro_research/radcliffe/zari_oba_txt_files/-9.795918367346939.txt',\n",
       " '/Users/cam/Desktop/astro_research/radcliffe/zari_oba_txt_files/-11.020408163265307.txt',\n",
       " '/Users/cam/Desktop/astro_research/radcliffe/zari_oba_txt_files/-12.244897959183675.txt',\n",
       " '/Users/cam/Desktop/astro_research/radcliffe/zari_oba_txt_files/-13.46938775510204.txt',\n",
       " '/Users/cam/Desktop/astro_research/radcliffe/zari_oba_txt_files/-14.693877551020408.txt',\n",
       " '/Users/cam/Desktop/astro_research/radcliffe/zari_oba_txt_files/-15.918367346938776.txt',\n",
       " '/Users/cam/Desktop/astro_research/radcliffe/zari_oba_txt_files/-17.142857142857142.txt',\n",
       " '/Users/cam/Desktop/astro_research/radcliffe/zari_oba_txt_files/-18.367346938775512.txt',\n",
       " '/Users/cam/Desktop/astro_research/radcliffe/zari_oba_txt_files/-19.591836734693878.txt',\n",
       " '/Users/cam/Desktop/astro_research/radcliffe/zari_oba_txt_files/-20.816326530612244.txt',\n",
       " '/Users/cam/Desktop/astro_research/radcliffe/zari_oba_txt_files/-22.040816326530614.txt',\n",
       " '/Users/cam/Desktop/astro_research/radcliffe/zari_oba_txt_files/-23.26530612244898.txt',\n",
       " '/Users/cam/Desktop/astro_research/radcliffe/zari_oba_txt_files/-24.48979591836735.txt',\n",
       " '/Users/cam/Desktop/astro_research/radcliffe/zari_oba_txt_files/-25.714285714285715.txt',\n",
       " '/Users/cam/Desktop/astro_research/radcliffe/zari_oba_txt_files/-26.93877551020408.txt',\n",
       " '/Users/cam/Desktop/astro_research/radcliffe/zari_oba_txt_files/-28.16326530612245.txt',\n",
       " '/Users/cam/Desktop/astro_research/radcliffe/zari_oba_txt_files/-29.387755102040817.txt',\n",
       " '/Users/cam/Desktop/astro_research/radcliffe/zari_oba_txt_files/-30.612244897959183.txt',\n",
       " '/Users/cam/Desktop/astro_research/radcliffe/zari_oba_txt_files/-31.836734693877553.txt',\n",
       " '/Users/cam/Desktop/astro_research/radcliffe/zari_oba_txt_files/-33.06122448979592.txt',\n",
       " '/Users/cam/Desktop/astro_research/radcliffe/zari_oba_txt_files/-34.285714285714285.txt',\n",
       " '/Users/cam/Desktop/astro_research/radcliffe/zari_oba_txt_files/-35.51020408163265.txt',\n",
       " '/Users/cam/Desktop/astro_research/radcliffe/zari_oba_txt_files/-36.734693877551024.txt',\n",
       " '/Users/cam/Desktop/astro_research/radcliffe/zari_oba_txt_files/-37.95918367346939.txt',\n",
       " '/Users/cam/Desktop/astro_research/radcliffe/zari_oba_txt_files/-39.183673469387756.txt',\n",
       " '/Users/cam/Desktop/astro_research/radcliffe/zari_oba_txt_files/-40.40816326530612.txt',\n",
       " '/Users/cam/Desktop/astro_research/radcliffe/zari_oba_txt_files/-41.63265306122449.txt',\n",
       " '/Users/cam/Desktop/astro_research/radcliffe/zari_oba_txt_files/-42.85714285714286.txt',\n",
       " '/Users/cam/Desktop/astro_research/radcliffe/zari_oba_txt_files/-44.08163265306123.txt',\n",
       " '/Users/cam/Desktop/astro_research/radcliffe/zari_oba_txt_files/-45.30612244897959.txt',\n",
       " '/Users/cam/Desktop/astro_research/radcliffe/zari_oba_txt_files/-46.53061224489796.txt',\n",
       " '/Users/cam/Desktop/astro_research/radcliffe/zari_oba_txt_files/-47.755102040816325.txt',\n",
       " '/Users/cam/Desktop/astro_research/radcliffe/zari_oba_txt_files/-48.9795918367347.txt',\n",
       " '/Users/cam/Desktop/astro_research/radcliffe/zari_oba_txt_files/-50.204081632653065.txt',\n",
       " '/Users/cam/Desktop/astro_research/radcliffe/zari_oba_txt_files/-51.42857142857143.txt',\n",
       " '/Users/cam/Desktop/astro_research/radcliffe/zari_oba_txt_files/-52.6530612244898.txt',\n",
       " '/Users/cam/Desktop/astro_research/radcliffe/zari_oba_txt_files/-53.87755102040816.txt',\n",
       " '/Users/cam/Desktop/astro_research/radcliffe/zari_oba_txt_files/-55.10204081632653.txt',\n",
       " '/Users/cam/Desktop/astro_research/radcliffe/zari_oba_txt_files/-56.3265306122449.txt',\n",
       " '/Users/cam/Desktop/astro_research/radcliffe/zari_oba_txt_files/-57.55102040816327.txt',\n",
       " '/Users/cam/Desktop/astro_research/radcliffe/zari_oba_txt_files/-58.775510204081634.txt',\n",
       " '/Users/cam/Desktop/astro_research/radcliffe/zari_oba_txt_files/-60.0.txt']"
      ]
     },
     "execution_count": 5,
     "metadata": {},
     "output_type": "execute_result"
    }
   ],
   "source": []
  },
  {
   "cell_type": "code",
   "execution_count": null,
   "metadata": {},
   "outputs": [],
   "source": []
  }
 ],
 "metadata": {
  "kernelspec": {
   "display_name": "Python 3.7.12 ('galpy')",
   "language": "python",
   "name": "python3"
  },
  "language_info": {
   "codemirror_mode": {
    "name": "ipython",
    "version": 3
   },
   "file_extension": ".py",
   "mimetype": "text/x-python",
   "name": "python",
   "nbconvert_exporter": "python",
   "pygments_lexer": "ipython3",
   "version": "3.7.12"
  },
  "orig_nbformat": 4,
  "vscode": {
   "interpreter": {
    "hash": "78c1e3d098a16f3d99966dc862ce722f65489208cafe27414997efaead99e521"
   }
  }
 },
 "nbformat": 4,
 "nbformat_minor": 2
}
