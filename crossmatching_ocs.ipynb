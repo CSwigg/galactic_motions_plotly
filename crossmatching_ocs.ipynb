{
 "cells": [
  {
   "cell_type": "code",
   "execution_count": 1,
   "metadata": {},
   "outputs": [],
   "source": [
    "import pandas as pd\n",
    "from astropy.io import fits\n",
    "import numpy as np\n",
    "import movie_stars\n",
    "import warnings\n",
    "warnings.filterwarnings(\"ignore\")\n",
    "df_apogee = pd.read_csv('/Users/cam/Downloads/apogee_dr17.csv')\n",
    "df_sos = pd.read_csv('/Users/cam/Downloads/Tsantaki_SoS_291021_CDS.csv')\n"
   ]
  },
  {
   "cell_type": "code",
   "execution_count": 2,
   "metadata": {},
   "outputs": [],
   "source": [
    "df_open_clusters = pd.read_csv('/Users/cam/Downloads/open_clusters_3d.csv')\n",
    "df_oc_full = pd.read_csv('/Users/cam/Downloads/open_clusters_full.csv')\n",
    "\n",
    "\n",
    "df_oc_full = pd.merge(left = df_oc_full, right = df_apogee, how = 'left', left_on = 'source_id', right_on = 'gaiaedr3_source_id')\n",
    "df_oc_full = pd.merge(left = df_oc_full, right = df_sos, how = 'left', left_on = 'source_id', right_on = 'gaiaSourceId')\n",
    "\n"
   ]
  },
  {
   "cell_type": "code",
   "execution_count": 3,
   "metadata": {},
   "outputs": [],
   "source": [
    "df_oc_apogee = df_oc_full.loc[df_oc_full['vhelio_avg'].notnull()]\n",
    "df_oc_apogee['rv_chosen'] = df_oc_apogee['vhelio_avg']\n",
    "\n",
    "df_oc_sos = df_oc_full.loc[(df_oc_full['RVcor_merged'].notnull()) & (df_oc_full['vhelio_avg'].isnull())]\n",
    "df_oc_sos['rv_chosen'] = df_oc_sos['RVcor_merged']\n",
    "\n",
    "df_oc_gaia = df_oc_full.loc[(df_oc_full['rv'].notnull()) & (df_oc_full['vhelio_avg'].isnull()) & (df_oc_full['RVcor_merged'].isnull())]\n",
    "df_oc_gaia['rv_chosen'] = df_oc_gaia['rv']\n",
    "\n",
    "df_oc_no_rv = df_oc_full.loc[(df_oc_full['rv'].isnull()) & (df_oc_full['vhelio_avg'].isnull()) & (df_oc_full['RVcor_merged'].isnull())]\n",
    "\n",
    "df_oc_full = pd.concat([df_oc_apogee, df_oc_sos, df_oc_gaia, df_oc_no_rv])\n"
   ]
  },
  {
   "cell_type": "code",
   "execution_count": 4,
   "metadata": {},
   "outputs": [],
   "source": [
    "oc_grouped_df_list = []\n",
    "oc_groups = df_oc_full.groupby('cluster')\n",
    "for cluster, df_oc_grouped in oc_groups:\n",
    "    df_oc_grouped = df_oc_grouped.rename(columns = {'ra_x' : 'ra_med', \n",
    "                                                    'dec' : 'dec_med', \n",
    "                                                    'parallax' : 'parallax_med', \n",
    "                                                    'pmra' : 'pmra_med',\n",
    "                                                    'pmdec' : 'pmdec_med',\n",
    "                                                    'rv_chosen' : 'rv_chosen_med'\n",
    "                                                    })\n",
    "    df_oc_grouped = df_oc_grouped.loc[df_oc_grouped['rv_chosen_med'].notnull()]\n",
    "    #if len(df_oc_grouped) > 5:\n",
    "        #df_oc_grouped = df_oc_grouped.median()\n",
    "    df_oc_grouped['cluster'] = cluster\n",
    "    df_oc_grouped['n'] = len(df_oc_grouped)\n",
    "    df_oc_grouped['n_rv'] = len(df_oc_grouped.loc[df_oc_grouped.rv_chosen_med.notnull()])\n",
    "    oc_grouped_df_list.append(df_oc_grouped)\n",
    "\n",
    "df_oc_grouped_full = pd.concat(oc_grouped_df_list)\n",
    "df_oc_grouped_full = df_oc_grouped_full.groupby('cluster').median().reset_index()\n",
    "\n",
    "df_open_clusters = pd.merge(left = df_open_clusters, right = df_oc_grouped_full, how = 'left', left_on = 'cluster', right_on = 'cluster')\n",
    "df_open_clusters.drop(['ra', 'dec', 'pmra', 'pmdec', 'parallax'], axis = 1, inplace=True)\n",
    "\n",
    "df_open_clusters.to_csv('/Users/cam/Downloads/cg_ocs_full.csv', index = False)"
   ]
  },
  {
   "cell_type": "code",
   "execution_count": 5,
   "metadata": {},
   "outputs": [],
   "source": [
    "# crossmatch Sebastian catalog\n",
    "df_sc = pd.read_csv('/Users/cam/Downloads/sco_cen_full.csv')\n",
    "filter_col = [col for col in df_sc if col.startswith('cluster')]\n",
    "sc_clusters_list = []\n",
    "for c in filter_col:\n",
    "    df_in_cluster = df_sc.loc[df_sc[c] == True]\n",
    "    df_in_cluster['label'] = c\n",
    "    sc_clusters_list.append(df_in_cluster)\n",
    "df_sc = pd.concat(sc_clusters_list)\n",
    "\n",
    "df_sc_apogee_xmatch = pd.merge(left = df_sc, right = df_apogee, how = 'left', left_on = 'source_id', right_on = 'gaiaedr3_source_id', suffixes = ('', '_y'))\n",
    "df_sc_full = pd.merge(left = df_sc_apogee_xmatch, right = df_sos, how = 'left', left_on = 'source_id', right_on = 'gaiaSourceId', suffixes = ('', '_y'))"
   ]
  },
  {
   "cell_type": "code",
   "execution_count": 6,
   "metadata": {},
   "outputs": [],
   "source": [
    "df_sc_apogee = df_sc_full.loc[df_sc_full['vhelio_avg'].notnull()]\n",
    "df_sc_apogee['rv_chosen'] = df_sc_apogee['vhelio_avg']\n",
    "\n",
    "df_sc_sos = df_sc_full.loc[(df_sc_full['RVcor_merged'].notnull()) & (df_sc_full['vhelio_avg'].isnull())]\n",
    "df_sc_sos['rv_chosen'] = df_sc_sos['RVcor_merged']\n",
    "\n",
    "df_sc_gaia = df_sc_full.loc[(df_sc_full['dr2_radial_velocity'].notnull()) & (df_sc_full['vhelio_avg'].isnull()) & (df_sc_full['RVcor_merged'].isnull())]\n",
    "df_sc_gaia['rv_chosen'] = df_sc_gaia['dr2_radial_velocity']\n",
    "\n",
    "df_sc_no_rv = df_sc_full.loc[(df_sc_full['dr2_radial_velocity'].isnull()) & (df_sc_full['vhelio_avg'].isnull()) & (df_sc_full['RVcor_merged'].isnull())]\n",
    "\n",
    "df_sc_full = pd.concat([df_sc_apogee, df_sc_sos, df_sc_gaia, df_sc_no_rv])"
   ]
  },
  {
   "cell_type": "code",
   "execution_count": 7,
   "metadata": {},
   "outputs": [],
   "source": [
    "sc_grouped_df_list = []\n",
    "sc_groups = df_sc_full.groupby('label')\n",
    "for cluster, df_sc_grouped in sc_groups:\n",
    "    df_sc_grouped = df_sc_grouped.rename(columns = {'ra_x' : 'ra'})\n",
    "    df_sc_grouped = df_sc_grouped.loc[df_sc_grouped['rv_chosen'].notnull()]\n",
    "    if len(df_sc_grouped) > 20:\n",
    "        #df_oc_grouped = df_oc_grouped.median()\n",
    "        df_sc_grouped['label'] = cluster\n",
    "        df_sc_grouped['n'] = len(df_sc_grouped)\n",
    "        sc_grouped_df_list.append(df_sc_grouped)\n",
    "\n",
    "df_sc_grouped_full = pd.concat(sc_grouped_df_list)\n",
    "df_sc_grouped_full = df_sc_grouped_full.groupby('label').median().reset_index()\n",
    "\n",
    "#df_sc_out = pd.merge(left = df_sc_full, right = df_sc_grouped_full, how = 'left', left_on = 'cluster', right_on = 'cluster')\n",
    "#df_sc_out.drop(['ra', 'dec', 'pmra', 'pmdec', 'parallax'], axis = 1, inplace=True)\n",
    "\n",
    "df_sc_grouped_full.to_csv('/Users/cam/Downloads/sc_sebastian_full.csv', index = False)"
   ]
  },
  {
   "cell_type": "code",
   "execution_count": 8,
   "metadata": {},
   "outputs": [],
   "source": [
    "hdu_hao_full = fits.open('/Users/cam/Downloads/asu-34.fit')\n",
    "d = hdu_hao_full[1].data\n",
    "df_hao_full = pd.DataFrame({'ra' : d['RA_ICRS'].byteswap().newbyteorder(),\n",
    "                            'dec' : d['DE_ICRS'].byteswap().newbyteorder(), \n",
    "                            'parallax' : d['plx'].byteswap().newbyteorder(), \n",
    "                            'pmra' : d['pmRA'].byteswap().newbyteorder(), \n",
    "                            'pmdec' : d['pmDE'].byteswap().newbyteorder(), \n",
    "                            'radial_velocity' : d['RV'].byteswap().newbyteorder(), \n",
    "                            'Cluster' : d['Cluster'].byteswap().newbyteorder(),\n",
    "                            'source_id' : d['GaiaEDR3'].byteswap().newbyteorder(),\n",
    "                            'Gmag' : d['Gmag'].byteswap().newbyteorder(),\n",
    "                            'bp_rp' : d['BP-RP'].byteswap().newbyteorder()\n",
    "})\n",
    "\n",
    "df_hao_apogee = pd.merge(left = df_hao_full, right = df_apogee, how = 'left', left_on = 'source_id', right_on = 'gaiaedr3_source_id', suffixes=('', '_y'))\n",
    "df_hao_full = pd.merge(left = df_hao_apogee, right = df_sos, how = 'left', left_on = 'source_id', right_on = 'gaiaSourceId', suffixes=('', '_y'))\n",
    "\n"
   ]
  },
  {
   "cell_type": "code",
   "execution_count": 9,
   "metadata": {},
   "outputs": [],
   "source": [
    "df_hao_apogee = df_hao_full.loc[df_hao_full['vhelio_avg'].notnull()]\n",
    "df_hao_apogee['rv_chosen'] = df_hao_apogee['vhelio_avg']\n",
    "\n",
    "df_hao_sos = df_hao_full.loc[(df_hao_full['RVcor_merged'].notnull()) & (df_hao_full['vhelio_avg'].isnull())]\n",
    "df_hao_sos['rv_chosen'] = df_hao_sos['RVcor_merged']\n",
    "\n",
    "df_hao_gaia = df_hao_full.loc[(df_hao_full['radial_velocity'].notnull()) & (df_hao_full['vhelio_avg'].isnull()) & (df_hao_full['RVcor_merged'].isnull())]\n",
    "df_hao_gaia['rv_chosen'] = df_hao_gaia['radial_velocity']\n",
    "\n",
    "df_hao_no_rv = df_hao_full.loc[(df_hao_full['radial_velocity'].isnull()) & (df_hao_full['vhelio_avg'].isnull()) & (df_hao_full['RVcor_merged'].isnull())]\n",
    "df_hao_no_rv['rv_chosen'] = [np.nan]*len(df_hao_no_rv)\n",
    "\n",
    "df_hao_full = pd.concat([df_hao_apogee, df_hao_sos, df_hao_gaia, df_hao_no_rv])\n",
    "df_hao_full\n",
    "df_hao_grouped = pd.read_csv('/Users/cam/Downloads/hao_grouped.csv')\n",
    "clusters = df_hao_full.groupby(['Cluster'])\n",
    "\n",
    "clusters_list = []\n",
    "for c, df_c in clusters:\n",
    "    df_c['age'] = df_hao_grouped.loc[df_hao_grouped.Cluster == c].age.values*np.ones(len(df_c))\n",
    "    clusters_list.append(df_c)\n",
    "df_hao_full = pd.concat(clusters_list)\n",
    "\n",
    "\n",
    "df_hao_full.to_csv('/Users/cam/Downloads/hao_oc_rv_full.csv', index=False)"
   ]
  },
  {
   "cell_type": "code",
   "execution_count": 19,
   "metadata": {},
   "outputs": [],
   "source": [
    "hdu_he_full = fits.open('/Users/cam/Downloads/He_OCs_full.fit')\n",
    "d = hdu_he_full[1].data\n",
    "df_he_full = pd.DataFrame(d)\n",
    "\n",
    "\n",
    "df_he_apogee = pd.merge(left = df_he_full, right = df_apogee, how = 'left', left_on = 'GaiaEDR3', right_on = 'gaiaedr3_source_id', suffixes=('', '_y'))\n",
    "df_he_full = pd.merge(left = df_he_apogee, right = df_sos, how = 'left', left_on = 'GaiaEDR3', right_on = 'gaiaSourceId', suffixes=('', '_y'))"
   ]
  },
  {
   "cell_type": "code",
   "execution_count": 36,
   "metadata": {},
   "outputs": [],
   "source": [
    "\n",
    "df_he_apogee = df_he_full.loc[df_he_full['vhelio_avg'].notnull()]\n",
    "df_he_apogee['rv_chosen'] = df_he_apogee['vhelio_avg']\n",
    "\n",
    "df_he_sos = df_he_full.loc[(df_he_full['RVcor_merged'].notnull()) & (df_he_full['vhelio_avg'].isnull())]\n",
    "df_he_sos['rv_chosen'] = df_he_sos['RVcor_merged']\n",
    "\n",
    "df_he_gaia = df_he_full.loc[(df_he_full['RV'] != 0.) & (df_he_full['vhelio_avg'].isnull()) & (df_he_full['RVcor_merged'].isnull())]\n",
    "df_he_gaia['rv_chosen'] = df_he_gaia['RV']\n",
    "\n",
    "df_he_no_rv = df_he_full.loc[(df_he_full['RV'] == 0.) & (df_he_full['vhelio_avg'].isnull()) & (df_he_full['RVcor_merged'].isnull())]\n",
    "df_he_no_rv['rv_chosen'] = [np.nan]*len(df_he_no_rv)\n",
    "\n",
    "df_he_full = pd.concat([df_he_apogee, df_he_sos, df_he_gaia, df_he_no_rv])\n",
    "\n",
    "hdu_he_grouped = fits.open('/Users/cam/Downloads/He_OCs.fit')\n",
    "df_he_grouped = pd.DataFrame(hdu_he_grouped[1].data)\n",
    "clusters = df_he_full.groupby(['Cluster'])\n",
    "\n",
    "clusters_list = []\n",
    "for c, df_c in clusters:\n",
    "    df_c['n'] = np.ones(len(df_c))*len(df_c)\n",
    "    df_c['n_rv'] = len(df_c.loc[df_c['rv_chosen'].notnull()])*np.ones(len(df_c))\n",
    "    df_c['age'] = (10**(df_he_grouped.loc[df_he_grouped.Cluster == c]['logAge'].values)/1e6)*np.ones(len(df_c))\n",
    "    clusters_list.append(df_c)\n",
    "df_he_full = pd.concat(clusters_list)\n",
    "\n",
    "\n",
    "df_he_full.to_csv('/Users/cam/Downloads/he_oc_rv_full.csv', index=False)"
   ]
  },
  {
   "cell_type": "code",
   "execution_count": 38,
   "metadata": {},
   "outputs": [
    {
     "data": {
      "text/plain": [
       "143        1\n",
       "0          1\n",
       "1          1\n",
       "2          1\n",
       "3          1\n",
       "        ... \n",
       "66463    541\n",
       "66464    541\n",
       "66465    541\n",
       "66466    541\n",
       "66467    541\n",
       "Name: Cluster, Length: 66468, dtype: int32"
      ]
     },
     "execution_count": 38,
     "metadata": {},
     "output_type": "execute_result"
    }
   ],
   "source": [
    "df_he_full.Cluster"
   ]
  },
  {
   "cell_type": "code",
   "execution_count": null,
   "metadata": {},
   "outputs": [],
   "source": []
  }
 ],
 "metadata": {
  "interpreter": {
   "hash": "78c1e3d098a16f3d99966dc862ce722f65489208cafe27414997efaead99e521"
  },
  "kernelspec": {
   "display_name": "Python 3.7.12 ('galpy')",
   "language": "python",
   "name": "python3"
  },
  "language_info": {
   "codemirror_mode": {
    "name": "ipython",
    "version": 3
   },
   "file_extension": ".py",
   "mimetype": "text/x-python",
   "name": "python",
   "nbconvert_exporter": "python",
   "pygments_lexer": "ipython3",
   "version": "3.7.12"
  },
  "orig_nbformat": 4
 },
 "nbformat": 4,
 "nbformat_minor": 2
}
