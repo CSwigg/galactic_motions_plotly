{
 "cells": [
  {
   "cell_type": "code",
   "execution_count": 91,
   "metadata": {},
   "outputs": [],
   "source": [
    "import pandas as pd\n",
    "import numpy as np\n",
    "import movie_stars\n",
    "import warnings\n",
    "warnings.filterwarnings(\"ignore\")\n",
    "df_apogee = pd.read_csv('/Users/cam/Downloads/apogee_dr17.csv')\n",
    "df_sos = pd.read_csv('/Users/cam/Downloads/Tsantaki_SoS_291021_CDS.csv')\n"
   ]
  },
  {
   "cell_type": "code",
   "execution_count": 92,
   "metadata": {},
   "outputs": [],
   "source": [
    "df_open_clusters = pd.read_csv('/Users/cam/Downloads/open_clusters_3d.csv')\n",
    "df_oc_full = pd.read_csv('/Users/cam/Downloads/open_clusters_full.csv')\n",
    "\n",
    "\n",
    "df_oc_full = pd.merge(left = df_oc_full, right = df_apogee, how = 'left', left_on = 'source_id', right_on = 'gaiaedr3_source_id')\n",
    "df_oc_full = pd.merge(left = df_oc_full, right = df_sos, how = 'left', left_on = 'source_id', right_on = 'gaiaSourceId')\n",
    "\n"
   ]
  },
  {
   "cell_type": "code",
   "execution_count": 93,
   "metadata": {},
   "outputs": [],
   "source": [
    "df_oc_apogee = df_oc_full.loc[df_oc_full['vhelio_avg'].notnull()]\n",
    "df_oc_apogee['rv_chosen'] = df_oc_apogee['vhelio_avg']\n",
    "\n",
    "df_oc_sos = df_oc_full.loc[(df_oc_full['RVcor_merged'].notnull()) & (df_oc_full['vhelio_avg'].isnull())]\n",
    "df_oc_sos['rv_chosen'] = df_oc_sos['RVcor_merged']\n",
    "\n",
    "df_oc_gaia = df_oc_full.loc[(df_oc_full['rv'].notnull()) & (df_oc_full['vhelio_avg'].isnull()) & (df_oc_full['RVcor_merged'].isnull())]\n",
    "df_oc_gaia['rv_chosen'] = df_oc_gaia['rv']\n",
    "\n",
    "df_oc_full = pd.concat([df_oc_apogee, df_oc_sos, df_oc_gaia])\n"
   ]
  },
  {
   "cell_type": "code",
   "execution_count": 94,
   "metadata": {},
   "outputs": [],
   "source": [
    "oc_grouped_df_list = []\n",
    "oc_groups = df_oc_full.groupby('cluster')\n",
    "for cluster, df_oc_grouped in oc_groups:\n",
    "    df_oc_grouped = df_oc_grouped.rename(columns = {'ra_x' : 'ra_med', \n",
    "                                                    'dec' : 'dec_med', \n",
    "                                                    'parallax' : 'parallax_med', \n",
    "                                                    'pmra' : 'pmra_med',\n",
    "                                                    'pmdec' : 'pmdec_med',\n",
    "                                                    'rv_chosen' : 'rv_chosen_med'\n",
    "                                                    })\n",
    "    df_oc_grouped = df_oc_grouped.loc[df_oc_grouped['rv_chosen_med'].notnull()]\n",
    "    if len(df_oc_grouped) > 5:\n",
    "        #df_oc_grouped = df_oc_grouped.median()\n",
    "        df_oc_grouped['cluster'] = cluster\n",
    "        df_oc_grouped['n'] = len(df_oc_grouped)\n",
    "        oc_grouped_df_list.append(df_oc_grouped)\n",
    "\n",
    "df_oc_grouped_full = pd.concat(oc_grouped_df_list)\n",
    "df_oc_grouped_full = df_oc_grouped_full.groupby('cluster').median().reset_index()\n",
    "\n",
    "df_open_clusters = pd.merge(left = df_open_clusters, right = df_oc_grouped_full, how = 'left', left_on = 'cluster', right_on = 'cluster')\n",
    "df_open_clusters.drop(['ra', 'dec', 'pmra', 'pmdec', 'parallax'], axis = 1, inplace=True)\n",
    "\n",
    "df_open_clusters.to_csv('/Users/cam/Downloads/open_clusters_apogee_and_sos.csv', index = False)"
   ]
  },
  {
   "cell_type": "code",
   "execution_count": 95,
   "metadata": {},
   "outputs": [],
   "source": [
    "# crossmatch Sebastian catalog\n",
    "df_sc = pd.read_csv('/Users/cam/Downloads/sco_cen_full.csv')\n",
    "filter_col = [col for col in df_sc if col.startswith('cluster')]\n",
    "sc_clusters_list = []\n",
    "for c in filter_col:\n",
    "    df_in_cluster = df_sc.loc[df_sc[c] == True]\n",
    "    df_in_cluster['label'] = c\n",
    "    sc_clusters_list.append(df_in_cluster)\n",
    "df_sc = pd.concat(sc_clusters_list)\n",
    "\n",
    "df_sc_apogee_xmatch = pd.merge(left = df_sc, right = df_apogee, how = 'left', left_on = 'source_id', right_on = 'gaiaedr3_source_id', suffixes = ('', '_y'))\n",
    "df_sc_full = pd.merge(left = df_sc_apogee_xmatch, right = df_sos, how = 'left', left_on = 'source_id', right_on = 'gaiaSourceId', suffixes = ('', '_y'))"
   ]
  },
  {
   "cell_type": "code",
   "execution_count": 96,
   "metadata": {},
   "outputs": [],
   "source": [
    "df_sc_apogee = df_sc_full.loc[df_sc_full['vhelio_avg'].notnull()]\n",
    "df_sc_apogee['rv_chosen'] = df_sc_apogee['vhelio_avg']\n",
    "\n",
    "df_sc_sos = df_sc_full.loc[(df_sc_full['RVcor_merged'].notnull()) & (df_sc_full['vhelio_avg'].isnull())]\n",
    "df_sc_sos['rv_chosen'] = df_sc_sos['RVcor_merged']\n",
    "\n",
    "df_sc_gaia = df_sc_full.loc[(df_sc_full['dr2_radial_velocity'].notnull()) & (df_sc_full['vhelio_avg'].isnull()) & (df_sc_full['RVcor_merged'].isnull())]\n",
    "df_sc_gaia['rv_chosen'] = df_sc_gaia['dr2_radial_velocity']\n",
    "\n",
    "df_sc_full = pd.concat([df_sc_apogee, df_sc_sos, df_sc_gaia])"
   ]
  },
  {
   "cell_type": "code",
   "execution_count": 97,
   "metadata": {},
   "outputs": [],
   "source": [
    "sc_grouped_df_list = []\n",
    "sc_groups = df_sc_full.groupby('label')\n",
    "for cluster, df_sc_grouped in sc_groups:\n",
    "    df_sc_grouped = df_sc_grouped.rename(columns = {'ra_x' : 'ra'})\n",
    "    df_sc_grouped = df_sc_grouped.loc[df_sc_grouped['rv_chosen'].notnull()]\n",
    "    if len(df_sc_grouped) > 20:\n",
    "        #df_oc_grouped = df_oc_grouped.median()\n",
    "        df_sc_grouped['label'] = cluster\n",
    "        df_sc_grouped['n'] = len(df_sc_grouped)\n",
    "        sc_grouped_df_list.append(df_sc_grouped)\n",
    "\n",
    "df_sc_grouped_full = pd.concat(sc_grouped_df_list)\n",
    "df_sc_grouped_full = df_sc_grouped_full.groupby('label').median().reset_index()\n",
    "\n",
    "#df_sc_out = pd.merge(left = df_sc_full, right = df_sc_grouped_full, how = 'left', left_on = 'cluster', right_on = 'cluster')\n",
    "#df_sc_out.drop(['ra', 'dec', 'pmra', 'pmdec', 'parallax'], axis = 1, inplace=True)\n",
    "\n",
    "df_sc_grouped_full.to_csv('/Users/cam/Downloads/sc_sebastian_apogee_and_sos.csv', index = False)"
   ]
  },
  {
   "cell_type": "code",
   "execution_count": null,
   "metadata": {},
   "outputs": [],
   "source": []
  }
 ],
 "metadata": {
  "interpreter": {
   "hash": "78c1e3d098a16f3d99966dc862ce722f65489208cafe27414997efaead99e521"
  },
  "kernelspec": {
   "display_name": "Python 3.7.12 ('galpy')",
   "language": "python",
   "name": "python3"
  },
  "language_info": {
   "codemirror_mode": {
    "name": "ipython",
    "version": 3
   },
   "file_extension": ".py",
   "mimetype": "text/x-python",
   "name": "python",
   "nbconvert_exporter": "python",
   "pygments_lexer": "ipython3",
   "version": "3.7.12"
  },
  "orig_nbformat": 4
 },
 "nbformat": 4,
 "nbformat_minor": 2
}
