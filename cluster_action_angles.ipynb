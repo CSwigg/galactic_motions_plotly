{
 "cells": [
  {
   "cell_type": "code",
   "execution_count": 119,
   "metadata": {},
   "outputs": [],
   "source": [
    "import numpy as np\n",
    "import pandas as pd\n",
    "from astropy.coordinates import SkyCoord, ICRS, Galactic, GalacticLSR, Galactocentric\n",
    "import astropy.units as u\n",
    "import galpy\n",
    "from galpy.orbit import Orbit\n",
    "from galpy.potential import MWPotential2014\n",
    "\n",
    "time = np.linspace(0,-50,100)*u.Myr\n",
    "\n",
    "df_heiles = pd.read_csv('/Users/cam/Desktop/astro_research/radcliffe/galactic_motions_plotly/data/maria_clusters_heiles_shell.csv')\n",
    "df_split = pd.read_csv('/Users/cam/Desktop/astro_research/radcliffe/galactic_motions_plotly/data/maria_clusters_split.csv')\n",
    "df_young = pd.read_csv('/Users/cam/Desktop/astro_research/radcliffe/galactic_motions_plotly/data/maria_clusters_young.csv')\n",
    "df_older = pd.read_csv('/Users/cam/Desktop/astro_research/radcliffe/galactic_motions_plotly/data/maria_clusters_older.csv')\n",
    "df_rw = pd.read_csv('/Users/cam/Desktop/astro_research/radcliffe/galactic_motions_plotly/data/maria_clusters_rw_joao.csv')\n",
    "df_rw['rv_weighted_med'] = df_rw['rv_weighted']"
   ]
  },
  {
   "cell_type": "code",
   "execution_count": 120,
   "metadata": {},
   "outputs": [],
   "source": [
    "def compute_orbit(df, time):\n",
    "    icrs = SkyCoord(ra=df.ra.values * u.deg,\n",
    "                    dec=df.dec.values * u.deg,\n",
    "                    distance=(1000 / df.parallax.values) * u.pc,\n",
    "                    pm_ra_cosdec = df.pmra.values * (u.mas/u.yr),\n",
    "                    pm_dec = df.pmdec.values * (u.mas/u.yr),\n",
    "                    radial_velocity = df.rv_weighted_med.values * (u.km/u.s)\n",
    "                    )\n",
    "    orbit = Orbit(vxvv=icrs)\n",
    "    potential = MWPotential2014\n",
    "    orbit.integrate(time, pot=potential)\n",
    "\n",
    "    # E = np.median(orbit.E(time), axis = 1)\n",
    "    # Er = np.median(orbit.ER(time), axis = 1)\n",
    "    # Ez = np.median(orbit.Ez(time), axis = 1)\n",
    "\n",
    "    # L = np.median(orbit.L(time), axis = 1)\n",
    "    # LcE = np.median(orbit.LcE(time), axis = 1)\n",
    "    # Lz = np.median(orbit.Lz(time), axis = 1)\n",
    "\n",
    "    E_i = orbit.E(time[0])\n",
    "    Er_i = orbit.ER(time[0])\n",
    "    Ez_i = orbit.Ez(time[0])\n",
    "    Lz_i = orbit.Lz(time[0])\n",
    "\n",
    "    E_f = orbit.E(time[71])\n",
    "    Er_f = orbit.ER(time[71])\n",
    "    Ez_f = orbit.Ez(time[71])\n",
    "    Lz_f = orbit.Lz(time[71])\n",
    "\n",
    "    df['E_i'] = E_i\n",
    "    df['ER_i'] = Er_i\n",
    "    df['Ez_i'] = Ez_i\n",
    "    df['Lz_i'] = Lz_i\n",
    "\n",
    "    df['E_f'] = E_f\n",
    "    df['ER_f'] = Er_f\n",
    "    df['Ez_f'] = Ez_f\n",
    "    df['Lz_f'] = Lz_f\n",
    "\n",
    "    df['jp'] = orbit.jp(pot = potential)\n",
    "    df['jr'] = orbit.jr(pot = potential)\n",
    "    df['jz'] = orbit.jz(pot = potential)\n",
    "    df['Op'] = orbit.Op(pot = potential)\n",
    "    df['Or'] = orbit.Or(pot = potential)\n",
    "    df['Oz'] = orbit.Oz(pot = potential)\n",
    "    return df"
   ]
  },
  {
   "cell_type": "code",
   "execution_count": 121,
   "metadata": {},
   "outputs": [],
   "source": [
    "df_heiles = compute_orbit(df_heiles, time)\n",
    "df_split = compute_orbit(df_split, time)\n",
    "df_young = compute_orbit(df_young, time)\n",
    "df_older = compute_orbit(df_older, time)\n",
    "df_rw = compute_orbit(df_rw, time)\n",
    "\n",
    "df_heiles.to_csv('/Users/cam/Desktop/astro_research/radcliffe/clusters_integrated/df_heiles_orbit.csv', index = False)\n",
    "df_split.to_csv('/Users/cam/Desktop/astro_research/radcliffe/clusters_integrated/df_split_orbit.csv', index = False)\n",
    "df_young.to_csv('/Users/cam/Desktop/astro_research/radcliffe/clusters_integrated/df_maria_young_orbit.csv', index = False)\n",
    "df_older.to_csv('/Users/cam/Desktop/astro_research/radcliffe/clusters_integrated/df_maria_older_orbit.csv', index = False)\n",
    "df_rw.to_csv('/Users/cam/Desktop/astro_research/radcliffe/clusters_integrated/df_rw_orbit.csv', index = False)"
   ]
  },
  {
   "cell_type": "code",
   "execution_count": null,
   "metadata": {},
   "outputs": [],
   "source": []
  }
 ],
 "metadata": {
  "kernelspec": {
   "display_name": "Python 3.7.12 ('galpy')",
   "language": "python",
   "name": "python3"
  },
  "language_info": {
   "codemirror_mode": {
    "name": "ipython",
    "version": 3
   },
   "file_extension": ".py",
   "mimetype": "text/x-python",
   "name": "python",
   "nbconvert_exporter": "python",
   "pygments_lexer": "ipython3",
   "version": "3.7.12"
  },
  "orig_nbformat": 4,
  "vscode": {
   "interpreter": {
    "hash": "78c1e3d098a16f3d99966dc862ce722f65489208cafe27414997efaead99e521"
   }
  }
 },
 "nbformat": 4,
 "nbformat_minor": 2
}
