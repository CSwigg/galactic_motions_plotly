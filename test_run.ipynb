{
 "cells": [
  {
   "cell_type": "code",
   "execution_count": 7,
   "metadata": {},
   "outputs": [],
   "source": [
    "import pandas as pd\n",
    "import numpy as np\n",
    "import movie_stars\n",
    "import warnings\n",
    "warnings.filterwarnings(\"ignore\")\n",
    "\n",
    "time_to_integrate = np.linspace(0, -30, 200)\n",
    "\n",
    "\n",
    "# apogee catalog to crossmatch with\n",
    "df_apogee = pd.read_csv('/Users/cam/Downloads/apogee_dr17.csv')"
   ]
  },
  {
   "cell_type": "code",
   "execution_count": 8,
   "metadata": {},
   "outputs": [],
   "source": [
    "# ------------ Open Clusters --------------\n",
    "df_open_clusters = pd.read_csv('/Users/cam/Downloads/open_clusters_apogee_and_sos.csv')\n",
    "\n",
    "\n",
    "df_open_clusters['age_myr'] = df_open_clusters['age_myr']/1e6\n",
    "df_open_clusters = df_open_clusters.loc[(np.abs(df_open_clusters.rv_chosen_med) < 50) & (df_open_clusters.rv_chosen_med.notnull()) & (df_open_clusters['parallax_med'] > 0.)]\n",
    "df_oc_young = df_open_clusters.loc[df_open_clusters.age_myr <= 35.]\n",
    "df_oc_old = df_open_clusters.loc[(df_open_clusters.age_myr > 20.) & (\n",
    "    df_open_clusters.age_myr <= 50)]\n",
    "\n",
    "open_clusters_key_dict = {'ra_med': 'ra',\n",
    "                          'dec_med': 'dec',\n",
    "                          'parallax_med': 'parallax',\n",
    "                          'pmra_med': 'pmra',\n",
    "                          'pmdec_med': 'pmdec',\n",
    "                          'rv_chosen_med': 'radial_velocity',\n",
    "                          'age_myr': 'age',\n",
    "                          'cluster': 'group_name'}\n",
    "oc_marker_props = {'size': 3,\n",
    "                   'color': '#00CED1',\n",
    "                   'opacity': 0.8,\n",
    "                   'symbol': 'age-based'\n",
    "                   }\n",
    "oc_marker_props_old = oc_marker_props.copy()\n",
    "oc_marker_props_oldest = oc_marker_props.copy()\n",
    "oc_marker_props_old['color'] = 'red'\n",
    "\n",
    "\n",
    "open_clusters_young = movie_stars.MovieStar(name='CG Open Clusters (Age [Myr] < 35)',\n",
    "                                            df=df_oc_young,\n",
    "                                            key_dict=open_clusters_key_dict,\n",
    "                                            time_to_integrate=time_to_integrate,\n",
    "                                            marker_properties=oc_marker_props\n",
    "                                            )\n",
    "\n",
    "open_clusters_old = movie_stars.MovieStar(name='CG Open Clusters (20 < Age [Myr] < 40)',\n",
    "                                          df=df_oc_old,\n",
    "                                          key_dict=open_clusters_key_dict,\n",
    "                                          time_to_integrate=time_to_integrate,\n",
    "                                          marker_properties=oc_marker_props_old\n",
    "                                          )\n"
   ]
  },
  {
   "cell_type": "code",
   "execution_count": 9,
   "metadata": {},
   "outputs": [
    {
     "data": {
      "text/plain": [
       "True"
      ]
     },
     "execution_count": 9,
     "metadata": {},
     "output_type": "execute_result"
    }
   ],
   "source": [
    "#------------ Sebastian ScoCen groups --------------\n",
    "df_sc = pd.read_csv('/Users/cam/Downloads/sc_sebastian_apogee_and_sos.csv')\n",
    "\n",
    "\n",
    "# creating movie class\n",
    "sco_cen_key_dict = {'ra' : 'ra',\n",
    "                    'dec' : 'dec',\n",
    "                    'parallax' : 'parallax',\n",
    "                    'pmra' : 'pmra',\n",
    "                    'pmdec' : 'pmdec',\n",
    "                    'rv_chosen' : 'radial_velocity',\n",
    "                    'label' : 'group_name',\n",
    "                    'age' : 'age'\n",
    "}\n",
    "sco_cen_marker_props = {'size' : 5, \n",
    "                        'opacity' : 0.8, \n",
    "                        'symbol' : 'age-based', \n",
    "                        'color' : 'magenta'}\n",
    "\n",
    "sco_cen = movie_stars.MovieStar(name = 'Sebastian Sco-Cen', \n",
    "                                time_to_integrate = time_to_integrate, \n",
    "                                df = df_sc, \n",
    "                                key_dict = sco_cen_key_dict, \n",
    "                                marker_properties = sco_cen_marker_props\n",
    "                                )\n",
    "\n",
    "\n",
    "sco_cen.marker_properties['symbol'] == 'age-based'\n"
   ]
  },
  {
   "cell_type": "code",
   "execution_count": 10,
   "metadata": {},
   "outputs": [],
   "source": [
    "# ---------- Kerr Groups -----------\n",
    "df_kerr = pd.read_csv('/Users/cam/Desktop/gaia_3d_plot/data/kerr_sos_edr3.csv')\n",
    "df_kerr_apogee = pd.read_csv('/Users/cam/Downloads/sco_cen_kerr_apogee.csv')\n",
    "df_kerr = df_kerr.loc[(df_kerr.TLC != 22) & (df_kerr.EOM > 0)]\n",
    "df_kerr = pd.merge(left = df_kerr, right = df_apogee, how = 'left', left_on = 'source_id', right_on = 'gaiaedr3_source_id')\n",
    "df_kerr = df_kerr.loc[(df_kerr.parallax > 0.)]\n",
    "\n",
    "df_kerr_apogee = df_kerr.loc[df_kerr['vhelio_avg'].notnull()]\n",
    "df_kerr_apogee['rv'] = df_kerr_apogee['vhelio_avg']\n",
    "df_kerr_apogee['rv_err'] = df_kerr_apogee['verr']\n",
    "\n",
    "df_kerr_sos = df_kerr.loc[(df_kerr['RVcor_merged'].notnull()) & (df_kerr['vhelio_avg'].isnull())]\n",
    "df_kerr_sos['rv'] = df_kerr_sos['RVcor_merged']\n",
    "df_kerr_sos['rv_err'] = df_kerr_sos['ERRVcor_merged']\n",
    "df_kerr = pd.concat([df_kerr_apogee, df_kerr_sos])\n",
    "           \n",
    "df_kerr = df_kerr.groupby(['EOM']).median().reset_index()\n",
    "\n",
    "kerr_key_dict = {'ra' : 'ra',\n",
    "                    'dec' : 'dec',\n",
    "                    'parallax' : 'parallax',\n",
    "                    'pmra' : 'pmra',\n",
    "                    'pmdec' : 'pmdec',\n",
    "                    'rv' : 'radial_velocity',\n",
    "                    'EOM' : 'group_name',\n",
    "                    'Age' : 'age'\n",
    "}\n",
    "kerr_marker_props = {'size' : 5, \n",
    "                        'opacity' : 0.5, \n",
    "                        'symbol' : 'age-based', \n",
    "                        'color' : '#4169E1'}\n",
    "\n",
    "kerr = movie_stars.MovieStar(name = 'Kerr+2021', \n",
    "                                time_to_integrate = time_to_integrate, \n",
    "                                df = df_kerr, \n",
    "                                key_dict = kerr_key_dict, \n",
    "                                marker_properties = kerr_marker_props)\n",
    "\n"
   ]
  },
  {
   "cell_type": "code",
   "execution_count": 13,
   "metadata": {},
   "outputs": [],
   "source": [
    "# ---------- Nuria Clusters -----------\n",
    "df_nuria = pd.read_csv('/Users/cam/Downloads/table_YLAs_equ_family2.csv')\n",
    "df_nuria['age'] = np.ones(len(df_nuria))*35e6\n",
    "\n",
    "nuria_key_dict = {'ra': 'ra',\n",
    "    'dec': 'dec',\n",
    "    'parallax': 'parallax',\n",
    "    'pmra': 'pmra',\n",
    "    'pmdec': 'pmdec',\n",
    "    'RV': 'radial_velocity',\n",
    "    'age': 'age',\n",
    "    'Group': 'group_name'}\n",
    "oc_marker_props = {'size': 3,\n",
    "                   'color': '#00CED1',\n",
    "                   'opacity': 0.8,\n",
    "                   'symbol': 'age-based'\n",
    "                   }\n",
    "\n"
   ]
  },
  {
   "cell_type": "code",
   "execution_count": 14,
   "metadata": {},
   "outputs": [
    {
     "data": {
      "text/plain": [
       "Index(['idx', 'Group', 'X', 'Y', 'Z', 'U', 'V', 'W', 'ra', 'dec', 'parallax',\n",
       "       'pmra', 'pmdec', 'RV', 'xyz', 'uvw', 'age'],\n",
       "      dtype='object')"
      ]
     },
     "execution_count": 14,
     "metadata": {},
     "output_type": "execute_result"
    }
   ],
   "source": [
    "\n",
    "df_nuria.keys()"
   ]
  },
  {
   "cell_type": "code",
   "execution_count": 11,
   "metadata": {},
   "outputs": [
    {
     "name": "stdout",
     "output_type": "stream",
     "text": [
      "Movie Created\n"
     ]
    }
   ],
   "source": [
    "# make movie\n",
    "movie_save_path = '/Users/cam/Desktop/astro_research/radcliffe/galactic_motions_movie_1.html'\n",
    "data_list = [open_clusters_young, sco_cen, kerr]\n",
    "movie = movie_stars.Movie(\n",
    "    movie_stars=data_list, time=time_to_integrate, movie_save_path=movie_save_path,\n",
    "    center_star='Sebastian Sco-Cen'\n",
    "    )\n",
    "movie.make_movie()"
   ]
  },
  {
   "cell_type": "code",
   "execution_count": 12,
   "metadata": {},
   "outputs": [
    {
     "data": {
      "text/plain": [
       "Series([], Name: TLC, dtype: float64)"
      ]
     },
     "execution_count": 12,
     "metadata": {},
     "output_type": "execute_result"
    }
   ],
   "source": [
    "df_kerr.loc[df_kerr.EOM == 12].TLC\n",
    "#df_kerr.keys()"
   ]
  },
  {
   "cell_type": "code",
   "execution_count": null,
   "metadata": {},
   "outputs": [],
   "source": []
  }
 ],
 "metadata": {
  "interpreter": {
   "hash": "78c1e3d098a16f3d99966dc862ce722f65489208cafe27414997efaead99e521"
  },
  "kernelspec": {
   "display_name": "Python 3.7.12 ('galpy')",
   "language": "python",
   "name": "python3"
  },
  "language_info": {
   "codemirror_mode": {
    "name": "ipython",
    "version": 3
   },
   "file_extension": ".py",
   "mimetype": "text/x-python",
   "name": "python",
   "nbconvert_exporter": "python",
   "pygments_lexer": "ipython3",
   "version": "3.7.12"
  },
  "orig_nbformat": 4
 },
 "nbformat": 4,
 "nbformat_minor": 2
}
