{
 "cells": [
  {
   "cell_type": "code",
   "execution_count": 1,
   "metadata": {},
   "outputs": [],
   "source": [
    "import pandas as pd\n",
    "import numpy as np\n",
    "import movie_stars\n",
    "import warnings\n",
    "from astropy.io import fits\n",
    "warnings.filterwarnings(\"ignore\")\n",
    "\n",
    "time_to_integrate = np.linspace(0, -60, 50)\n",
    "\n",
    "\n",
    "# apogee catalog to crossmatch with\n",
    "df_apogee = pd.read_csv('/Users/cam/Downloads/apogee_dr17.csv')\n",
    "age_min = 35\n",
    "age_max = 60"
   ]
  },
  {
   "cell_type": "code",
   "execution_count": 2,
   "metadata": {},
   "outputs": [],
   "source": [
    "radwave_progenitor_names = pd.read_csv('radcliffe_progenitor').group_name.values\n",
    "split_proengenitor_names = pd.read_csv('split_progenitor').group_name.values"
   ]
  },
  {
   "cell_type": "markdown",
   "metadata": {},
   "source": [
    "# Open Clusters"
   ]
  },
  {
   "cell_type": "code",
   "execution_count": 3,
   "metadata": {},
   "outputs": [],
   "source": [
    "#df_open_clusters = pd.read_csv('/Users/cam/Downloads/cg_ocs_full.csv')\n",
    "df_open_clusters = pd.read_csv('/Users/cam/Desktop/gaia_3d_plot_2/data/open_clusters.csv')\n",
    "df_open_clusters = df_open_clusters.drop(columns=['radial_velocity'])\n",
    "\n",
    "df_open_clusters = df_open_clusters.loc[(df_open_clusters['n_rv'] >= 10)]\n",
    "df_open_clusters = df_open_clusters.loc[(np.abs(df_open_clusters.rv_best) < 100) & (\n",
    "    df_open_clusters.rv_best.notnull()) & (df_open_clusters['parallax'] > 1.)]\n",
    "#df_open_clusters = df_open_clusters.loc[df_open_clusters.rv_best_err <= 5.]\n",
    "df_open_clusters = df_open_clusters.groupby(['cluster']).median().reset_index()\n",
    "df_open_clusters = df_open_clusters.loc[df_open_clusters.age_myr <= age_max]\n",
    "\n",
    "\n",
    "df1 = df_open_clusters.loc[df_open_clusters['cluster'].isin(radwave_progenitor_names)]\n",
    "df2 = df_open_clusters.loc[df_open_clusters['cluster'].isin(split_proengenitor_names)]\n",
    "\n",
    "open_clusters_key_dict = {'ra': 'ra',\n",
    "                          'dec': 'dec',\n",
    "                          'paralla': 'parallax',\n",
    "                          'pmra': 'pmra',\n",
    "                          'pmdec': 'pmdec',\n",
    "                          'rv_best': 'radial_velocity',\n",
    "                          'age_myr': 'age',\n",
    "                          'cluster': 'group_name',\n",
    "                          'n_rv' : 'n'\n",
    "                          }\n",
    "oc_marker_props = {'size': 5,\n",
    "                   'color': 'cyan',\n",
    "                   'opacity': 1.,\n",
    "                   'symbol': 'age-based',\n",
    "                   'line': dict(width=0.)\n",
    "                   }\n",
    "\n",
    "\n",
    "oc_group_1 = movie_stars.MovieStar(name='OCs Group 1',\n",
    "                                            df=df_open_clusters,\n",
    "                                            key_dict=open_clusters_key_dict,\n",
    "                                            time_to_integrate=time_to_integrate,\n",
    "                                            marker_properties=oc_marker_props\n",
    "                                            )\n"
   ]
  },
  {
   "cell_type": "code",
   "execution_count": 4,
   "metadata": {},
   "outputs": [],
   "source": [
    "oc_marker_props_2 = oc_marker_props.copy()\n",
    "oc_marker_props_2['color'] = 'cyan'\n",
    "oc_group_2 = movie_stars.MovieStar(name='OCs Group 2',\n",
    "                                            df=df2,\n",
    "                                            key_dict=open_clusters_key_dict,\n",
    "                                            time_to_integrate=time_to_integrate,\n",
    "                                            marker_properties=oc_marker_props_2\n",
    "                                            )"
   ]
  },
  {
   "cell_type": "markdown",
   "metadata": {},
   "source": [
    "# Sebastian Sco-Cen"
   ]
  },
  {
   "cell_type": "code",
   "execution_count": 5,
   "metadata": {},
   "outputs": [
    {
     "data": {
      "text/plain": [
       "True"
      ]
     },
     "execution_count": 5,
     "metadata": {},
     "output_type": "execute_result"
    }
   ],
   "source": [
    "#df_sc = pd.read_csv('/Users/cam/Downloads/sc_sebastian_apogee_and_sos.csv')\n",
    "df_sc = pd.read_csv('/Users/cam/Downloads/sc_sebastian_full_new.csv')\n",
    "df_sc = df_sc.loc[df_sc.n_rv > 10]\n",
    "\n",
    "# creating movie class\n",
    "sco_cen_key_dict = {'ra': 'ra',\n",
    "                    'dec': 'dec',\n",
    "                    'parallax': 'parallax',\n",
    "                    'pmra': 'pmra',\n",
    "                    'pmdec': 'pmdec',\n",
    "                    'rv_chosen': 'radial_velocity',\n",
    "                    'label': 'group_name',\n",
    "                    'age': 'age'\n",
    "                    }\n",
    "sco_cen_marker_props = {'size': 5,\n",
    "                        'opacity': 1.,\n",
    "                        'symbol': 'age-based',\n",
    "                        'color': 'magenta',\n",
    "                        'line': dict(width=0.)\n",
    "                        }\n",
    "\n",
    "sco_cen = movie_stars.MovieStar(name='Sebastian Sco-Cen',\n",
    "                                time_to_integrate=time_to_integrate,\n",
    "                                df=df_sc,\n",
    "                                key_dict=sco_cen_key_dict,\n",
    "                                marker_properties=sco_cen_marker_props\n",
    "                                )\n",
    "\n",
    "\n",
    "sco_cen.marker_properties['symbol'] == 'age-based'\n"
   ]
  },
  {
   "cell_type": "markdown",
   "metadata": {},
   "source": [
    "# Kerr+2021 Groups (besides Sco-Cen)"
   ]
  },
  {
   "cell_type": "code",
   "execution_count": 6,
   "metadata": {},
   "outputs": [],
   "source": [
    "#df_kerr = pd.read_csv('/Users/cam/Downloads/kerr_xmatched.csv')\n",
    "df_kerr = pd.read_csv('/Users/cam/Desktop/gaia_3d_plot_2/data/kerr_sos_edr3.csv')\n",
    "df_kerr = df_kerr.rename(columns={'EOM' : 'eom'})\n",
    "#(df_kerr.tlc != 22)\n",
    "df_kerr = df_kerr.loc[(df_kerr.eom >= 0)]\n",
    "df_kerr = pd.merge(left=df_kerr, right=df_apogee, how='left',\n",
    "                   left_on='source_id', right_on='gaiaedr3_source_id')\n",
    "df_kerr = df_kerr.loc[(df_kerr.parallax > 0.)]\n",
    "\n",
    "df_kerr_apogee = df_kerr.loc[df_kerr['vhelio_avg'].notnull()]\n",
    "df_kerr_apogee['rv_best'] = df_kerr_apogee['vhelio_avg']\n",
    "df_kerr_apogee['rv_best_err'] = df_kerr_apogee['verr']\n",
    "\n",
    "# df_kerr_gaia = df_kerr.loc[(df_kerr['vhelio_avg'].isnull()) & (df_kerr['radial_velocity'].notnull())]\n",
    "# df_kerr_gaia['rv_best'] = df_kerr_gaia['radial_velocity']\n",
    "\n",
    "df_kerr_sos = df_kerr.loc[(df_kerr['RVcor_merged'].notnull()) & (\n",
    "    df_kerr['vhelio_avg'].isnull())]\n",
    "df_kerr_sos['rv_best'] = df_kerr_sos['RVcor_merged']\n",
    "df_kerr_sos['rv_best_err'] = df_kerr_sos['ERRVcor_merged']\n",
    "\n",
    "\n",
    "df_kerr = pd.concat([df_kerr_apogee, df_kerr_sos])\n",
    "df_kerr['rv_best_rel_err'] = np.abs(df_kerr['rv_best_err'].values/df_kerr['rv_best'].values)\n",
    "df_kerr = df_kerr.loc[df_kerr['rv_best_rel_err'] < .3]\n",
    "\n",
    "#df_kerr = df_kerr.drop(columns = ['radial_velocity'])\n",
    "\n",
    "df_kerr = df_kerr.groupby(['eom']).median().reset_index()\n",
    "df_kerr = df_kerr.loc[df_kerr.Age.notnull()]\n",
    "\n",
    "kerr_key_dict = {'ra': 'ra',\n",
    "                 'dec': 'dec',\n",
    "                 'parallax': 'parallax',\n",
    "                 'pmra': 'pmra',\n",
    "                 'pmdec': 'pmdec',\n",
    "                 'rv_best': 'radial_velocity',\n",
    "                 'eom': 'group_name',\n",
    "                 'Age': 'age'\n",
    "                 }\n",
    "kerr_marker_props = {'size': 5,\n",
    "                     'opacity': 1.,\n",
    "                     'symbol': 'age-based',\n",
    "                     'color': '#4169E1',\n",
    "                     'line': dict(width=0.)\n",
    "                     }\n",
    "\n",
    "kerr = movie_stars.MovieStar(name='Kerr+2021',\n",
    "                             time_to_integrate=time_to_integrate,\n",
    "                             df=df_kerr,\n",
    "                             key_dict=kerr_key_dict,\n",
    "                             marker_properties=kerr_marker_props)\n"
   ]
  },
  {
   "cell_type": "markdown",
   "metadata": {},
   "source": [
    "# Nuria Groups"
   ]
  },
  {
   "cell_type": "code",
   "execution_count": 7,
   "metadata": {},
   "outputs": [],
   "source": [
    "df_nuria = pd.read_csv('/Users/cam/Downloads/table_YLAs_equ_family2.csv')\n",
    "df_nuria['age'] = np.ones(len(df_nuria))*35\n",
    "\n",
    "nuria_key_dict = {'ra': 'ra',\n",
    "                  'dec': 'dec',\n",
    "                  'parallax': 'parallax',\n",
    "                  'pmra': 'pmra',\n",
    "                  'pmdec': 'pmdec',\n",
    "                  'RV': 'radial_velocity',\n",
    "                  'age': 'age',\n",
    "                  'Group': 'group_name'}\n",
    "nuria_marker_props = {'size': 5,\n",
    "                      'color': 'orange',\n",
    "                      'opacity': 1.,\n",
    "                      'symbol': 'age-based',\n",
    "                      'line': dict(width=0.)\n",
    "                      }\n",
    "\n",
    "nuria = movie_stars.MovieStar(name='Nuria Groups', time_to_integrate=time_to_integrate,\n",
    "                              df=df_nuria, key_dict=nuria_key_dict, marker_properties=nuria_marker_props)\n"
   ]
  },
  {
   "cell_type": "markdown",
   "metadata": {},
   "source": [
    "# Swiggum/Chen Orion"
   ]
  },
  {
   "cell_type": "code",
   "execution_count": 8,
   "metadata": {},
   "outputs": [],
   "source": [
    "df_orion = pd.read_csv(\n",
    "    '/Users/cam/Desktop/astro_research/orion/orion_full_groups_with_age.csv')\n",
    "df_orion = df_orion.loc[df_orion.apogee2_radial_velocity.notnull()]\n",
    "df_orion = df_orion.groupby(['label']).median().reset_index()\n",
    "df_orion = df_orion.loc[df_orion.probability > .2]\n",
    "\n",
    "orion_key_dict = {'ra': 'ra',\n",
    "                  'dec': 'dec',\n",
    "                  'parallax': 'parallax',\n",
    "                  'pmra': 'pmra',\n",
    "                  'pmdec': 'pmdec',\n",
    "                  'apogee2_radial_velocity': 'radial_velocity',\n",
    "                  'age': 'age',\n",
    "                  'label': 'group_name'}\n",
    "orion_marker_props = {'size': 9,\n",
    "                      'color': '#8A2BE2',\n",
    "                      'opacity': 1.,\n",
    "                      'symbol': 'age-based',\n",
    "                      'line': dict(width=0.)\n",
    "                      }\n",
    "orion = movie_stars.MovieStar(name='Swiggum/Chen Orion', time_to_integrate=time_to_integrate,\n",
    "                              df=df_orion, key_dict=orion_key_dict, marker_properties=orion_marker_props)\n"
   ]
  },
  {
   "cell_type": "code",
   "execution_count": 9,
   "metadata": {},
   "outputs": [],
   "source": [
    "# Hao clusters\n",
    "#hdu_oc_hao = fits.open('/Users/cam/Downloads/asu-33.fit')\n",
    "#df_oc_hao = pd.DataFrame(hdu_oc_hao[1].data)\n",
    "df_oc_hao = pd.read_csv('/Users/cam/Desktop/gaia_3d_plot_2/data/hao_ocs_full.csv')\n",
    "df_oc_hao = df_oc_hao.loc[df_oc_hao['n_rv'] >= 3]\n",
    "df_oc_hao = df_oc_hao.groupby(['cluster']).median().reset_index()\n",
    "df_oc_hao = df_oc_hao.drop(columns=['radial_velocity'])\n",
    "\n",
    "df_oc_hao_young = df_oc_hao.loc[(df_oc_hao.age_myr < age_min)]\n",
    "df_oc_hao_young = df_oc_hao_young.loc[df_oc_hao_young.rv_best.notnull()]\n",
    "\n",
    "# df_oc_hao_older = df_oc_hao.loc[(df_oc_hao['age'].between(20.1, 100))]\n",
    "# df_oc_hao_older = df_oc_hao_older.loc[df_oc_hao_older.rv_chosen.notnull()]\n",
    "\n",
    "hao_key_dict = {'ra': 'ra',\n",
    "                'dec': 'dec',\n",
    "                'parallax': 'parallax',\n",
    "                'pmra': 'pmra',\n",
    "                'pmdec': 'pmdec',\n",
    "                'rv_best': 'radial_velocity',\n",
    "                'age_myr': 'age',\n",
    "                'cluster': 'group_name'}\n",
    "hao_marker_props = {'size': 5.,\n",
    "                    'color': '#00CED1',\n",
    "                    'opacity': 1.,\n",
    "                    'symbol': 'age-based',\n",
    "                    'line': dict(width=0.)\n",
    "                    }\n",
    "hao = movie_stars.MovieStar(name='Hao OCs (< 20 Myr)', time_to_integrate=time_to_integrate,\n",
    "                            df=df_oc_hao_young, key_dict=hao_key_dict, marker_properties=hao_marker_props)\n",
    "\n",
    "# hao_marker_props_older = hao_marker_props.copy()\n",
    "# hao_marker_props_older['color'] = 'red'\n",
    "# hao_older = movie_stars.MovieStar(name='Hao OCs (Age [Myr] < 80 Myr)', time_to_integrate=time_to_integrate,\n",
    "#                             df=df_oc_hao_older, key_dict=hao_key_dict, marker_properties=hao_marker_props_older)\n"
   ]
  },
  {
   "cell_type": "code",
   "execution_count": 10,
   "metadata": {},
   "outputs": [],
   "source": [
    "df_maria_rw = pd.read_csv('/Users/cam/Downloads/maria_rw_clusters.csv')\n",
    "df_maria_rw = df_maria_rw.loc[(df_maria_rw.age_myr <= 60) & \n",
    "                        (df_maria_rw.rv_weighted.notnull()) & \n",
    "                        (df_maria_rw.rv_weighted != 0.) & \n",
    "                        (df_maria_rw.N_rv_weighted > 5) &\n",
    "                        (df_maria_rw.rv_weighted.abs().between(-50,50))\n",
    "                        ]\n",
    "df_maria_rw = df_maria_rw.drop(columns = ['age','ra', 'de', 'pmra', 'radial_velocity'])\n",
    "\n",
    "maria_clusters_key_dict = {'ra_dr3': 'ra',\n",
    "                          'dec_dr3': 'dec',\n",
    "                          'parallax_dr3': 'parallax',\n",
    "                          'pmra_dr3': 'pmra',\n",
    "                          'pmdec_dr3': 'pmdec',\n",
    "                          'rv_weighted': 'radial_velocity',\n",
    "                          'age_myr': 'age',\n",
    "                          'cluster': 'group_name'\n",
    "                          }\n",
    "\n",
    "maria_marker_props = {'size': 8,\n",
    "            'color': 'red',\n",
    "            'opacity': 1.,\n",
    "            'symbol': 'age-based',\n",
    "            'line': dict(width=0.)\n",
    "            }\n",
    "\n",
    "maria_clusters_rw = movie_stars.MovieStar(name='Maria Clusters: RW',\n",
    "                                            df=df_maria_rw,\n",
    "                                            key_dict=maria_clusters_key_dict,\n",
    "                                            time_to_integrate=time_to_integrate,\n",
    "                                            marker_properties=maria_marker_props\n",
    "                                            )"
   ]
  },
  {
   "cell_type": "code",
   "execution_count": 11,
   "metadata": {},
   "outputs": [],
   "source": [
    "df_maria = pd.read_csv('/Users/cam/Downloads/maria_clusters.csv')\n",
    "df_maria = df_maria.loc[(df_maria.age_myr <= 60) & \n",
    "                        (df_maria.rv_weighted.notnull()) & \n",
    "                        (df_maria.rv_weighted != 0.) & \n",
    "                        (df_maria.N_rv_weighted > 5) &\n",
    "                        (df_maria.rv_weighted.abs().between(-50,50))\n",
    "                        ]\n",
    "df_maria = df_maria.drop(columns = ['age','ra', 'de', 'pmra', 'radial_velocity'])\n",
    "# df_maria_young = df_maria.loc[df_maria.age_myr <= 25]\n",
    "\n",
    "\n",
    "maria_marker_props = {'size': 3,\n",
    "                   'color': 'gray',\n",
    "                   'opacity': .7,\n",
    "                   'symbol': 'age-based',\n",
    "                   'line': dict(width=0.)\n",
    "                   }\n",
    "\n",
    "\n",
    "maria_clusters = movie_stars.MovieStar(name='Maria Clusters',\n",
    "                                            df=df_maria,\n",
    "                                            key_dict=maria_clusters_key_dict,\n",
    "                                            time_to_integrate=time_to_integrate,\n",
    "                                            marker_properties=maria_marker_props\n",
    "                                            )"
   ]
  },
  {
   "cell_type": "code",
   "execution_count": 12,
   "metadata": {},
   "outputs": [
    {
     "name": "stdout",
     "output_type": "stream",
     "text": [
      "Movie Created!\n"
     ]
    }
   ],
   "source": [
    "# make movie\n",
    "movie_save_path = '/Users/cam/Desktop/astro_research/radcliffe/movies/galactic_motions_movie_2.html'\n",
    "#data_list = [oc_group_1, oc_group_2, kerr, nuria, orion, sco_cen, maria_clusters]\n",
    "data_list = [maria_clusters, maria_clusters_rw, sco_cen, kerr, orion]\n",
    "\n",
    "annotations = [dict(x=-272, y=120, z=50, text='Radcliffe Wave (t = 0)', xanchor='center', opacity=.8, font=dict(size=10, color='red'), showarrow=False),\n",
    "               dict(x=235, y=77, z=44, text='The Split (t = 0)', xanchor='center',\n",
    "                    opacity=.8, font=dict(size=10), showarrow=False),\n",
    "               dict(x=2144, y=-5768, z=60, text='Compact Group? (t = -26.5)',\n",
    "                    xanchor='center', opacity=1., font=dict(size=8), showarrow=True),\n",
    "               dict(x=6185, y=-7507, z=20, text='Similar gas-origins for Sco-Cen and OCs? (t = -48.5)',\n",
    "                    xanchor='center', opacity=1., font=dict(size=8), showarrow=True),\n",
    "               dict(x=6929, y=-7574, z=0, text='Similar gas-origins for Sco-Cen and OCs? (t = -48.5)',\n",
    "                    xanchor='center', opacity=1., font=dict(size=8), showarrow=True),\n",
    "               dict(x=379, y=-3096, z=-94, text='Sun passes through Orion (t=-13.3)',\n",
    "                    xanchor='center', opacity=1., font=dict(size=8), showarrow=True)\n",
    "               ]\n",
    "\n",
    "movie = movie_stars.Movie(\n",
    "    movie_stars=data_list, time=time_to_integrate, movie_save_path=movie_save_path,\n",
    "    center_star='Sun', annotations=None, xyz_ranges=[5000, 5000, 400]\n",
    ")\n",
    "movie.make_movie()\n"
   ]
  },
  {
   "cell_type": "code",
   "execution_count": 13,
   "metadata": {},
   "outputs": [],
   "source": [
    "maria_clusters.df_integrated.to_csv('/Users/cam/Downloads/maria_clusters_int.csv', index=False)\n",
    "maria_clusters_rw.df_integrated.to_csv('/Users/cam/Downloads/maria_clusters_rw_int.csv', index=False)"
   ]
  },
  {
   "cell_type": "code",
   "execution_count": null,
   "metadata": {},
   "outputs": [],
   "source": []
  }
 ],
 "metadata": {
  "interpreter": {
   "hash": "78c1e3d098a16f3d99966dc862ce722f65489208cafe27414997efaead99e521"
  },
  "kernelspec": {
   "display_name": "Python 3.7.12 ('galpy')",
   "language": "python",
   "name": "python3"
  },
  "language_info": {
   "codemirror_mode": {
    "name": "ipython",
    "version": 3
   },
   "file_extension": ".py",
   "mimetype": "text/x-python",
   "name": "python",
   "nbconvert_exporter": "python",
   "pygments_lexer": "ipython3",
   "version": "3.7.12"
  },
  "orig_nbformat": 4
 },
 "nbformat": 4,
 "nbformat_minor": 2
}
